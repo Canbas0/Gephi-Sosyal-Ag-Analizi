{
  "nbformat": 4,
  "nbformat_minor": 0,
  "metadata": {
    "colab": {
      "provenance": []
    },
    "kernelspec": {
      "name": "python3",
      "display_name": "Python 3"
    },
    "language_info": {
      "name": "python"
    }
  },
  "cells": [
    {
      "cell_type": "code",
      "execution_count": 1,
      "metadata": {
        "colab": {
          "base_uri": "https://localhost:8080/"
        },
        "id": "OjFQX2TTnvpu",
        "outputId": "053d4091-be0d-4113-8123-11bf4a2938cb"
      },
      "outputs": [
        {
          "output_type": "stream",
          "name": "stdout",
          "text": [
            "Looking in indexes: https://pypi.org/simple, https://us-python.pkg.dev/colab-wheels/public/simple/\n",
            "Collecting git+https://github.com/JustAnotherArchivist/snscrape.git\n",
            "  Cloning https://github.com/JustAnotherArchivist/snscrape.git to /tmp/pip-req-build-ky_9_3fl\n",
            "  Running command git clone --filter=blob:none --quiet https://github.com/JustAnotherArchivist/snscrape.git /tmp/pip-req-build-ky_9_3fl\n",
            "  Resolved https://github.com/JustAnotherArchivist/snscrape.git to commit 614d4c2029a62d348ca56598f87c425966aaec66\n",
            "  Installing build dependencies ... \u001b[?25l\u001b[?25hdone\n",
            "  Getting requirements to build wheel ... \u001b[?25l\u001b[?25hdone\n",
            "  Installing backend dependencies ... \u001b[?25l\u001b[?25hdone\n",
            "  Preparing metadata (pyproject.toml) ... \u001b[?25l\u001b[?25hdone\n",
            "Requirement already satisfied: requests[socks] in /usr/local/lib/python3.10/dist-packages (from snscrape==0.6.2.20230321.dev53+g614d4c2) (2.27.1)\n",
            "Requirement already satisfied: lxml in /usr/local/lib/python3.10/dist-packages (from snscrape==0.6.2.20230321.dev53+g614d4c2) (4.9.2)\n",
            "Requirement already satisfied: beautifulsoup4 in /usr/local/lib/python3.10/dist-packages (from snscrape==0.6.2.20230321.dev53+g614d4c2) (4.11.2)\n",
            "Requirement already satisfied: filelock in /usr/local/lib/python3.10/dist-packages (from snscrape==0.6.2.20230321.dev53+g614d4c2) (3.12.0)\n",
            "Requirement already satisfied: soupsieve>1.2 in /usr/local/lib/python3.10/dist-packages (from beautifulsoup4->snscrape==0.6.2.20230321.dev53+g614d4c2) (2.4.1)\n",
            "Requirement already satisfied: urllib3<1.27,>=1.21.1 in /usr/local/lib/python3.10/dist-packages (from requests[socks]->snscrape==0.6.2.20230321.dev53+g614d4c2) (1.26.15)\n",
            "Requirement already satisfied: certifi>=2017.4.17 in /usr/local/lib/python3.10/dist-packages (from requests[socks]->snscrape==0.6.2.20230321.dev53+g614d4c2) (2022.12.7)\n",
            "Requirement already satisfied: charset-normalizer~=2.0.0 in /usr/local/lib/python3.10/dist-packages (from requests[socks]->snscrape==0.6.2.20230321.dev53+g614d4c2) (2.0.12)\n",
            "Requirement already satisfied: idna<4,>=2.5 in /usr/local/lib/python3.10/dist-packages (from requests[socks]->snscrape==0.6.2.20230321.dev53+g614d4c2) (3.4)\n",
            "Requirement already satisfied: PySocks!=1.5.7,>=1.5.6 in /usr/local/lib/python3.10/dist-packages (from requests[socks]->snscrape==0.6.2.20230321.dev53+g614d4c2) (1.7.1)\n",
            "Building wheels for collected packages: snscrape\n",
            "  Building wheel for snscrape (pyproject.toml) ... \u001b[?25l\u001b[?25hdone\n",
            "  Created wheel for snscrape: filename=snscrape-0.6.2.20230321.dev53+g614d4c2-py3-none-any.whl size=75022 sha256=896a51075de870e94fe96705ff38ca590334eb7258ead7774f95f5d29b02985d\n",
            "  Stored in directory: /tmp/pip-ephem-wheel-cache-36495wq9/wheels/05/e9/f7/57056e7c7e44b1feed932fa49fdec9d706c4f563e37160ab74\n",
            "Successfully built snscrape\n",
            "Installing collected packages: snscrape\n",
            "Successfully installed snscrape-0.6.2.20230321.dev53+g614d4c2\n"
          ]
        }
      ],
      "source": [
        "pip install git+https://github.com/JustAnotherArchivist/snscrape.git"
      ]
    },
    {
      "cell_type": "code",
      "source": [
        "import snscrape.modules.twitter as sntwitter\n",
        "import pandas as pd\n",
        "from datetime import datetime, timedelta"
      ],
      "metadata": {
        "id": "EU95kaaxnzs8"
      },
      "execution_count": 2,
      "outputs": []
    },
    {
      "cell_type": "code",
      "source": [
        "hashtag = \"#yapayzeka\""
      ],
      "metadata": {
        "id": "YYumult3n7b8"
      },
      "execution_count": 3,
      "outputs": []
    },
    {
      "cell_type": "code",
      "source": [
        "today = datetime.now().date()\n",
        "month_ago = today - timedelta(days=150)"
      ],
      "metadata": {
        "id": "1UNIPjlAn-k-"
      },
      "execution_count": 4,
      "outputs": []
    },
    {
      "cell_type": "code",
      "source": [
        "query = f'{hashtag} since:{month_ago}'"
      ],
      "metadata": {
        "id": "gSWuMfzWoA9H"
      },
      "execution_count": 5,
      "outputs": []
    },
    {
      "cell_type": "code",
      "source": [
        "tweets_list = []\n",
        "max_tweets = 10000\n",
        "for i, tweet in enumerate(sntwitter.TwitterHashtagScraper(query).get_items()):\n",
        "    if i >= max_tweets:\n",
        "        break\n",
        "    tweets_list.append([tweet.date, tweet.id,tweet.username,tweet.user.id,tweet.hashtags, tweet.content, tweet.likeCount, tweet.retweetCount, tweet.replyCount])"
      ],
      "metadata": {
        "colab": {
          "base_uri": "https://localhost:8080/"
        },
        "id": "-MhmGwpEoA_e",
        "outputId": "7cff86fa-bba0-4f19-db3e-08817395dbe7"
      },
      "execution_count": 6,
      "outputs": [
        {
          "output_type": "stream",
          "name": "stderr",
          "text": [
            "<ipython-input-6-ef63abacc4f0>:6: DeprecatedFeatureWarning: username is deprecated, use user.username instead\n",
            "  tweets_list.append([tweet.date, tweet.id,tweet.username,tweet.user.id,tweet.hashtags, tweet.content, tweet.likeCount, tweet.retweetCount, tweet.replyCount])\n",
            "<ipython-input-6-ef63abacc4f0>:6: DeprecatedFeatureWarning: content is deprecated, use rawContent instead\n",
            "  tweets_list.append([tweet.date, tweet.id,tweet.username,tweet.user.id,tweet.hashtags, tweet.content, tweet.likeCount, tweet.retweetCount, tweet.replyCount])\n",
            "WARNING:snscrape.modules.twitter:Skipping unrecognised entry ID: 'promoted-tweet-1671945395809779722-3250f4fa174743f4'\n",
            "WARNING:snscrape.modules.twitter:Skipping unrecognised entry ID: 'promoted-tweet-1667154325574156289-3250cb13a9195556'\n",
            "WARNING:snscrape.modules.twitter:Skipping unrecognised entry ID: 'promoted-tweet-1670725681473355778-32501400cbf499dd'\n",
            "WARNING:snscrape.modules.twitter:Skipping unrecognised entry ID: 'promoted-tweet-1667154325574156289-3250e6045d769779'\n",
            "WARNING:snscrape.modules.twitter:Skipping unrecognised entry ID: 'promoted-tweet-1670725681473355778-3250994c28490099'\n",
            "WARNING:snscrape.modules.twitter:Skipping unrecognised entry ID: 'promoted-tweet-1671604669729103881-32504776ee9a544b'\n",
            "WARNING:snscrape.modules.twitter:Skipping unrecognised entry ID: 'promoted-tweet-1671945395809779722-3250d7393aa2037a'\n",
            "WARNING:snscrape.modules.twitter:Skipping unrecognised entry ID: 'promoted-tweet-1667154325574156289-325059e93a7b81c1'\n",
            "WARNING:snscrape.modules.twitter:Skipping unrecognised entry ID: 'promoted-tweet-1661045032760008704-325010a5d287a700'\n",
            "WARNING:snscrape.modules.twitter:Skipping unrecognised entry ID: 'promoted-tweet-1650592445619658752-32500865de855bd0'\n",
            "WARNING:snscrape.modules.twitter:Skipping unrecognised entry ID: 'promoted-tweet-1667154325574156289-3250ae2591092681'\n",
            "WARNING:snscrape.modules.twitter:Skipping unrecognised entry ID: 'promoted-tweet-1648689406260441089-325051c7c0132482'\n",
            "WARNING:snscrape.modules.twitter:Skipping unrecognised entry ID: 'promoted-tweet-1667154325574156289-3250aa69e92bc002'\n",
            "WARNING:snscrape.modules.twitter:Skipping unrecognised entry ID: 'promoted-tweet-1671945395809779722-3250b338f051cebc'\n",
            "WARNING:snscrape.modules.twitter:Skipping unrecognised entry ID: 'promoted-tweet-1670730914727444484-3250296433e5be50'\n",
            "WARNING:snscrape.modules.twitter:Skipping unrecognised entry ID: 'promoted-tweet-1671945395809779722-325028728a9d227b'\n",
            "WARNING:snscrape.modules.twitter:Skipping unrecognised entry ID: 'promoted-tweet-1667154325574156289-32509df6c2c47ef3'\n",
            "WARNING:snscrape.modules.twitter:Skipping unrecognised entry ID: 'promoted-tweet-1671945395809779722-325085a454005e8d'\n",
            "WARNING:snscrape.modules.twitter:Skipping unrecognised entry ID: 'promoted-tweet-1667154325574156289-325018ca867bb9cb'\n",
            "WARNING:snscrape.modules.twitter:Skipping unrecognised entry ID: 'promoted-tweet-1671604669729103881-3250d730e3e47724'\n",
            "WARNING:snscrape.modules.twitter:Skipping unrecognised entry ID: 'promoted-tweet-1650592445619658752-3250d8f7a9fb0240'\n",
            "WARNING:snscrape.modules.twitter:Skipping unrecognised entry ID: 'promoted-tweet-1671945395809779722-32508279393ee233'\n",
            "WARNING:snscrape.modules.twitter:Skipping unrecognised entry ID: 'promoted-tweet-1670447282733416448-3250ec888d459395'\n",
            "WARNING:snscrape.modules.twitter:Skipping unrecognised entry ID: 'promoted-tweet-1650592445619658752-325090d07122cb1c'\n",
            "WARNING:snscrape.modules.twitter:Skipping unrecognised entry ID: 'promoted-tweet-1671945395809779722-325077d9c3949cde'\n",
            "WARNING:snscrape.modules.twitter:Skipping unrecognised entry ID: 'promoted-tweet-1667154325574156289-3250db69e97c764b'\n",
            "WARNING:snscrape.modules.twitter:Skipping unrecognised entry ID: 'promoted-tweet-1658970979182444544-32503dbd0acbac91'\n",
            "WARNING:snscrape.modules.twitter:Skipping unrecognised entry ID: 'promoted-tweet-1650592445619658752-32505b15af6f7978'\n",
            "WARNING:snscrape.modules.twitter:Skipping unrecognised entry ID: 'promoted-tweet-1671945395809779722-325081e7ace4fc3a'\n",
            "WARNING:snscrape.modules.twitter:Skipping unrecognised entry ID: 'promoted-tweet-1648689406260441089-3250a7c084094807'\n",
            "WARNING:snscrape.modules.twitter:Skipping unrecognised entry ID: 'promoted-tweet-1667154325574156289-3250e9174d6d0a9b'\n",
            "WARNING:snscrape.modules.twitter:Skipping unrecognised entry ID: 'promoted-tweet-1671945395809779722-3250627fa9d215ed'\n",
            "WARNING:snscrape.modules.twitter:Skipping unrecognised entry ID: 'promoted-tweet-1670725681473355778-32505bbc29fa04e3'\n",
            "WARNING:snscrape.modules.twitter:Skipping unrecognised entry ID: 'promoted-tweet-1650592445619658752-3250b9fcbadd59ab'\n",
            "WARNING:snscrape.modules.twitter:Skipping unrecognised entry ID: 'promoted-tweet-1671945395809779722-3250902bdfe012e0'\n",
            "WARNING:snscrape.modules.twitter:Skipping unrecognised entry ID: 'promoted-tweet-1648689406260441089-3250f1e262f2f871'\n",
            "WARNING:snscrape.modules.twitter:Skipping unrecognised entry ID: 'promoted-tweet-1650592445619658752-3250fb4835833879'\n",
            "WARNING:snscrape.modules.twitter:Skipping unrecognised entry ID: 'promoted-tweet-1671945395809779722-3250e3d8a44d06d6'\n",
            "WARNING:snscrape.modules.twitter:Skipping unrecognised entry ID: 'promoted-tweet-1648689406260441089-32507785677f0aee'\n",
            "WARNING:snscrape.modules.twitter:Skipping unrecognised entry ID: 'promoted-tweet-1670447282733416448-325077980114cd44'\n",
            "WARNING:snscrape.modules.twitter:Skipping unrecognised entry ID: 'promoted-tweet-1650592445619658752-325098dd20845781'\n",
            "WARNING:snscrape.modules.twitter:Skipping unrecognised entry ID: 'promoted-tweet-1671945395809779722-3250c0868f3182bd'\n",
            "WARNING:snscrape.modules.twitter:Skipping unrecognised entry ID: 'promoted-tweet-1671945395809779722-3250646f02e41c52'\n",
            "WARNING:snscrape.modules.twitter:Skipping unrecognised entry ID: 'promoted-tweet-1650592445619658752-32504223e4bc8f19'\n",
            "WARNING:snscrape.modules.twitter:Skipping unrecognised entry ID: 'promoted-tweet-1667154325574156289-325043f555275be4'\n",
            "WARNING:snscrape.modules.twitter:Skipping unrecognised entry ID: 'promoted-tweet-1671945395809779722-325088e0c2216ec7'\n",
            "WARNING:snscrape.modules.twitter:Skipping unrecognised entry ID: 'promoted-tweet-1671604669729103881-325021db7d2d6497'\n",
            "WARNING:snscrape.modules.twitter:Skipping unrecognised entry ID: 'promoted-tweet-1650592445619658752-32508004fae23b88'\n",
            "WARNING:snscrape.modules.twitter:Skipping unrecognised entry ID: 'promoted-tweet-1667154325574156289-32502d01d8911827'\n",
            "WARNING:snscrape.modules.twitter:Skipping unrecognised entry ID: 'promoted-tweet-1658113148354805760-325012d4b0fcdf01'\n",
            "WARNING:snscrape.modules.twitter:Skipping unrecognised entry ID: 'promoted-tweet-1648689406260441089-3250cd44916abce9'\n",
            "WARNING:snscrape.modules.twitter:Skipping unrecognised entry ID: 'promoted-tweet-1650592445619658752-3250c00436270024'\n",
            "WARNING:snscrape.modules.twitter:Skipping unrecognised entry ID: 'promoted-tweet-1671945395809779722-3250124d2cf8049d'\n",
            "WARNING:snscrape.modules.twitter:Skipping unrecognised entry ID: 'promoted-tweet-1648689406260441089-32500d83772cea51'\n",
            "WARNING:snscrape.modules.twitter:Could not translate t.co card URL on tweet 1671117450069385218\n",
            "WARNING:snscrape.modules.twitter:Skipping unrecognised entry ID: 'promoted-tweet-1671945395809779722-3250c30595c9a31d'\n",
            "WARNING:snscrape.modules.twitter:Skipping unrecognised entry ID: 'promoted-tweet-1650592445619658752-32509482e879cb12'\n",
            "WARNING:snscrape.modules.twitter:Skipping unrecognised entry ID: 'promoted-tweet-1671945395809779722-3250039b91b08cbf'\n",
            "WARNING:snscrape.modules.twitter:Skipping unrecognised entry ID: 'promoted-tweet-1648689406260441089-325057aec73c6467'\n",
            "WARNING:snscrape.modules.twitter:Could not translate t.co card URL on tweet 1670909502613254146\n",
            "WARNING:snscrape.modules.twitter:Skipping unrecognised entry ID: 'promoted-tweet-1667154325574156289-325042936ddea79c'\n",
            "WARNING:snscrape.modules.twitter:Skipping unrecognised entry ID: 'promoted-tweet-1650592445619658752-32506f494288ac1b'\n",
            "WARNING:snscrape.modules.twitter:Skipping unrecognised entry ID: 'promoted-tweet-1648689406260441089-32507d4e47656e91'\n",
            "WARNING:snscrape.modules.twitter:Skipping unrecognised entry ID: 'promoted-tweet-1650592445619658752-3250d4c730b233e2'\n",
            "WARNING:snscrape.modules.twitter:Skipping unrecognised entry ID: 'promoted-tweet-1671945395809779722-3250485c820aa1e5'\n",
            "WARNING:snscrape.modules.twitter:Skipping unrecognised entry ID: 'promoted-tweet-1667154325574156289-3250ff5044bbcf52'\n",
            "WARNING:snscrape.modules.twitter:Skipping unrecognised entry ID: 'promoted-tweet-1650592445619658752-32504aad0ddc26c8'\n",
            "WARNING:snscrape.modules.twitter:Skipping unrecognised entry ID: 'promoted-tweet-1671945395809779722-325094a250bdd5b1'\n",
            "WARNING:snscrape.modules.twitter:Stopping after 20 empty pages\n"
          ]
        }
      ]
    },
    {
      "cell_type": "code",
      "source": [
        "df = pd.DataFrame(tweets_list, columns=['Datetime', 'Tweet Id', 'username' ,'userid','hastags' ,  'Content', 'Like Count', 'Retweet Count', 'Reply Count'])"
      ],
      "metadata": {
        "id": "e-SEnFEEoBB4"
      },
      "execution_count": 7,
      "outputs": []
    },
    {
      "cell_type": "code",
      "source": [
        "df['Datetime'] = pd.to_datetime(df['Datetime']).dt.tz_localize(None)"
      ],
      "metadata": {
        "id": "xhL5VVzUoOBh"
      },
      "execution_count": 8,
      "outputs": []
    },
    {
      "cell_type": "code",
      "source": [
        "df.to_excel('Yapayzeka.xlsx', index=False)"
      ],
      "metadata": {
        "id": "ZBtZEYbsoPnJ"
      },
      "execution_count": 11,
      "outputs": []
    },
    {
      "cell_type": "code",
      "source": [
        "df = pd.read_excel('Yapayzeka.xlsx')"
      ],
      "metadata": {
        "id": "XQABN3f5oS-h"
      },
      "execution_count": 14,
      "outputs": []
    },
    {
      "cell_type": "code",
      "source": [
        "source_list = []\n",
        "target_list = []\n",
        "type_list = []\n",
        "weight_list = []"
      ],
      "metadata": {
        "id": "VSFNtsLRom7S"
      },
      "execution_count": 15,
      "outputs": []
    },
    {
      "cell_type": "code",
      "source": [
        "for index, row in df.iterrows():\n",
        "    hashtags = row['hastags']\n",
        "    username = row['username']\n",
        "    like_count = row['Like Count']\n",
        "    retweet_count = row['Retweet Count']\n",
        "    reply_count = row['Reply Count']\n",
        "\n",
        "    hashtag_list = hashtags.strip(\"[]\").replace(\"'\", \"\").split(',')\n",
        "\n",
        "    for hashtag in hashtag_list:\n",
        "        hashtag = hashtag.strip()\n",
        "\n",
        "        if hashtag.lower() == 'yapayzeka':\n",
        "            source = 'Yapayzeka'\n",
        "            target = username\n",
        "            relation_type = 'mention'\n",
        "            weight = 1+like_count + retweet_count + reply_count\n",
        "            source_list.append(source)\n",
        "            target_list.append(target)\n",
        "            type_list.append(relation_type)\n",
        "            weight_list.append(weight)"
      ],
      "metadata": {
        "id": "Mcl4m944op_t"
      },
      "execution_count": 16,
      "outputs": []
    },
    {
      "cell_type": "code",
      "source": [
        "data = {\n",
        "    'Source': source_list,\n",
        "    'Target': target_list,\n",
        "    'Type': type_list,\n",
        "    'Weight': weight_list\n",
        "}"
      ],
      "metadata": {
        "id": "zXkrG3Mjo4Vm"
      },
      "execution_count": 17,
      "outputs": []
    },
    {
      "cell_type": "code",
      "source": [
        "df_new = pd.DataFrame(data)"
      ],
      "metadata": {
        "id": "8FVUYh6Xo6Zv"
      },
      "execution_count": 18,
      "outputs": []
    },
    {
      "cell_type": "code",
      "source": [
        "df_new.to_csv('Yapayzeka_gephi', index=False)"
      ],
      "metadata": {
        "id": "M8cu85Oyo6ce"
      },
      "execution_count": 19,
      "outputs": []
    }
  ]
}